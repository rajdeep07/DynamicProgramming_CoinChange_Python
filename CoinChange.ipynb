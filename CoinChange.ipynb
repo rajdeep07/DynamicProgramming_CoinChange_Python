{
 "cells": [
  {
   "cell_type": "code",
   "execution_count": 17,
   "metadata": {},
   "outputs": [],
   "source": [
    "class StampDispenser():\n",
    "    def __init__(self, StampDispenser:'list[int]', amount:'int'):\n",
    "        self.StampDispenser = StampDispenser\n",
    "        self.amount = amount\n",
    "        \n",
    "    def calcMinNumStampsToFillRequest(self):\n",
    "        numOfCoins = [float('inf') for val in range(1+ self.amount)]\n",
    "        \n",
    "        # initial solution\n",
    "        numOfCoins[0] = 0\n",
    "        print(f\"Give minimum change of {self.amount} cents using coins {self.StampDispenser}\")\n",
    "        \n",
    "        for coin in self.StampDispenser:\n",
    "            for value in range(len(numOfCoins)):\n",
    "                if coin <= value:\n",
    "                    numOfCoins[value] = min(numOfCoins[value], value // coin + numOfCoins[value - (value // coin) * coin])\n",
    "            print(str(coin) + \" denomination \" ,end='')\n",
    "            print(*numOfCoins)\n",
    "        return numOfCoins[self.amount] if numOfCoins[self.amount] != float('inf') else -1"
   ]
  },
  {
   "cell_type": "code",
   "execution_count": 18,
   "metadata": {},
   "outputs": [
    {
     "name": "stdout",
     "output_type": "stream",
     "text": [
      "Give minimum change of 11 cents using coins [1, 2, 5]\n",
      "1 denomination 0 1 2 3 4 5 6 7 8 9 10 11\n",
      "2 denomination 0 1 1 2 2 3 3 4 4 5 5 6\n",
      "5 denomination 0 1 1 2 2 1 2 2 3 3 2 3\n"
     ]
    },
    {
     "data": {
      "text/plain": [
       "3"
      ]
     },
     "execution_count": 18,
     "metadata": {},
     "output_type": "execute_result"
    }
   ],
   "source": [
    "x = StampDispenser([1,2,5], 11)\n",
    "x.calcMinNumStampsToFillRequest()"
   ]
  }
 ],
 "metadata": {
  "kernelspec": {
   "display_name": "Python 3",
   "language": "python",
   "name": "python3"
  },
  "language_info": {
   "codemirror_mode": {
    "name": "ipython",
    "version": 3
   },
   "file_extension": ".py",
   "mimetype": "text/x-python",
   "name": "python",
   "nbconvert_exporter": "python",
   "pygments_lexer": "ipython3",
   "version": "3.8.8"
  }
 },
 "nbformat": 4,
 "nbformat_minor": 4
}
